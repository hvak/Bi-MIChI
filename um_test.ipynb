{
 "cells": [
  {
   "cell_type": "markdown",
   "metadata": {},
   "source": [
    "# Bi-MIChI UM Experiement\n",
    "\n",
    "In this notebook we show the synthetic \"UM\" experiement that was presented in the paper. The goal is to positively detect both the \"U\" and the \"M\" in the final fused image. For more information, please refer to the Bi-MIChI paper."
   ]
  },
  {
   "cell_type": "code",
   "execution_count": null,
   "metadata": {},
   "outputs": [],
   "source": [
    "import numpy as np\n",
    "import cv2\n",
    "import matplotlib.pyplot as plt\n",
    "from mpl_toolkits.axes_grid1 import ImageGrid\n",
    "from skimage.segmentation import slic\n",
    "from bicap_train import *\n",
    "from utils import normalize_to_range, mark_bags\n",
    "\n",
    "cmap = 'bwr'\n",
    "vmin = -1\n",
    "vmax = 1"
   ]
  },
  {
   "cell_type": "markdown",
   "metadata": {},
   "source": [
    "## Configure Dataset\n",
    "\n",
    "First, we load the data and construct the ground truths. There are 2 ground truths - one for each objective function we have. "
   ]
  },
  {
   "cell_type": "code",
   "execution_count": null,
   "metadata": {},
   "outputs": [],
   "source": [
    "# load the image\n",
    "img = cv2.imread(\"um-test/um.bmp\", 0)\n",
    "bin_img = np.array(img, dtype=np.float64)\n",
    "bin_img[bin_img > 0] = 1\n",
    "bin_img[bin_img == 0] = -1\n",
    "bin_img[bin_img == 1] = 0\n",
    "bin_img[bin_img == -1] = 1\n",
    "\n",
    "fig = plt.figure()\n",
    "grid = ImageGrid(fig, 111,          # as in plt.subplot(111)\n",
    "                 nrows_ncols=(1,2),\n",
    "                 axes_pad=0.15,\n",
    "                 share_all=True,\n",
    "                 cbar_location=\"right\",\n",
    "                 cbar_mode=\"single\",\n",
    "                 cbar_size=\"7%\",\n",
    "                 cbar_pad=0.15\n",
    "                )\n",
    "\n",
    "# obj function 1 ground truth\n",
    "um_gt1 = bin_img.copy()\n",
    "um_gt1 = normalize_to_range(um_gt1, min=-1, max=1)\n",
    "grid[0].imshow(um_gt1, cmap=cmap, vmin=vmin, vmax=vmax)\n",
    "grid[0].set_title(\"GT - objective function 1\\n(without 0 bound)\")\n",
    "\n",
    "# obj function 2 ground truth\n",
    "um_gt2 = bin_img.copy()\n",
    "um_gt2 = normalize_to_range(um_gt2, min=0, max=1)\n",
    "plt2 = grid[1].imshow(um_gt2, cmap=cmap, vmin=vmin, vmax=vmax)\n",
    "grid[1].set_title(\"GT - objective function 2\\n(with 0 bound)\")\n",
    "\n",
    "grid[1].cax.colorbar(plt2)\n",
    "plt.show()\n",
    " "
   ]
  },
  {
   "cell_type": "markdown",
   "metadata": {},
   "source": [
    "Next, we construct the three sources to be fused:\n",
    "- Source 1 positvely detects the \"U\" and negatively detects everything else.\n",
    "- Source 2 negatively detects the \"M\" and positively detects everything else.\n",
    "- Source 3 negatively detects the \"UM\" and positively detects the background."
   ]
  },
  {
   "cell_type": "code",
   "execution_count": null,
   "metadata": {},
   "outputs": [],
   "source": [
    "fig = plt.figure()\n",
    "grid = ImageGrid(fig, 111,          # as in plt.subplot(111)\n",
    "                 nrows_ncols=(1,3),\n",
    "                 axes_pad=0.15,\n",
    "                 share_all=True,\n",
    "                 cbar_location=\"right\",\n",
    "                 cbar_mode=\"single\",\n",
    "                 cbar_size=\"7%\",\n",
    "                 cbar_pad=0.15\n",
    "                )\n",
    "\n",
    "\n",
    "\n",
    "source1 = um_gt2.copy()\n",
    "source1[40:, :] = 0\n",
    "source1 = normalize_to_range(source1, min=-1, max=1)\n",
    "grid[0].imshow(source1, cmap=cmap, vmin=vmin, vmax=vmax)\n",
    "grid[0].set_title(\"Source 1\")\n",
    "\n",
    "source2 = um_gt2.copy()\n",
    "source2[source2 == 1] = -1\n",
    "source2[:40, :] = 0\n",
    "source2 = normalize_to_range(source2, min=-1, max=1)\n",
    "grid[1].imshow(source2, cmap=cmap, vmin=vmin, vmax=vmax)\n",
    "grid[1].set_title(\"Source 2\")\n",
    "\n",
    "source3 = um_gt2.copy()\n",
    "source3[source3 == 1] = -1\n",
    "source3 = normalize_to_range(source3, min=-1, max=1)\n",
    "plt3 = grid[2].imshow(source3, cmap=cmap, vmin=vmin, vmax=vmax)\n",
    "grid[2].set_title(\"Source 3\")\n",
    "\n",
    "grid[2].cax.colorbar(plt3)\n",
    "plt.show()"
   ]
  },
  {
   "cell_type": "markdown",
   "metadata": {},
   "source": [
    "## Construct Data Bags\n",
    "\n",
    "We use the SLIC superpixel algorithm to construct positive and negative bags from the ground truth."
   ]
  },
  {
   "cell_type": "code",
   "execution_count": null,
   "metadata": {},
   "outputs": [],
   "source": [
    "n_seg = 50\n",
    "compactness = 1.0\n",
    "\n",
    "seg = slic(um_gt1, n_segments=n_seg, compactness=compactness, channel_axis=None)\n",
    "n_seg = seg.max()\n",
    "\n",
    "data = np.empty(n_seg, dtype=object)\n",
    "labels = np.empty(n_seg)\n",
    "ind = 0\n",
    "for i in range(1, n_seg + 1):\n",
    "    s1 = source1[seg == i].reshape((-1, 1))\n",
    "    s2 = source2[seg == i].reshape((-1, 1))\n",
    "    s3 = source3[seg == i].reshape((-1, 1))\n",
    "\n",
    "    comb = np.hstack((s1, s2, s3))\n",
    "    data[ind] = comb\n",
    "    labels[ind] = np.any(s1 == 1) or np.any(s2 == -1) or np.any(s3 == -1)\n",
    "\n",
    "    ind += 1\n",
    "\n",
    "boundaries = mark_bags(um_gt1, seg, labels)\n",
    "plt.imshow(boundaries)\n",
    "plt.title(\"Labeled Bags (green=positive, red=negative)\")\n",
    "plt.show()"
   ]
  },
  {
   "cell_type": "markdown",
   "metadata": {},
   "source": [
    "## Bi-MIChI Optimization - Objective Function 1\n",
    "\n",
    "The first optimization we run utilizes objective function 1, which **does not** enforce the 0 bound of the bi-capacities.\n",
    "\n"
   ]
  },
  {
   "cell_type": "code",
   "execution_count": null,
   "metadata": {},
   "outputs": [],
   "source": [
    "params = {\n",
    "    \"max_iter\": 5000, \n",
    "    \"eta\": 0.8,\n",
    "    \"pop_size\": 8,\n",
    "    #\"n_threads\": 32,\n",
    "    \"fitness_thresh\": 0.01,\n",
    "    \"use_zero_bound\": False \n",
    "}\n",
    "bicap_train = BicapEvolutionaryTrain(data, labels, params)\n",
    "bicap = bicap_train.train()\n",
    "print(bicap)\n",
    "\n",
    "out_img = np.zeros_like(um_gt1)\n",
    "ind = 0\n",
    "for i in range(1, n_seg + 1):\n",
    "    ci = choquet_integral(data[ind], bicap)\n",
    "    out_img[seg == i] = ci.reshape(-1)\n",
    "    ind += 1\n",
    "\n",
    "plt.imshow(out_img, cmap=cmap, vmin=vmin, vmax=vmax)\n",
    "plt.title(\"Fusion Output - obj function 1\")\n",
    "plt.show()"
   ]
  },
  {
   "cell_type": "markdown",
   "metadata": {},
   "source": [
    "## Bi-MIChI Optimization - Objective Function 2\n",
    "\n",
    "The second optimization we run utilizes objective function 2, which **does** enforce the 0 bound of the bi-capacities."
   ]
  },
  {
   "cell_type": "code",
   "execution_count": null,
   "metadata": {},
   "outputs": [],
   "source": [
    "params = {\n",
    "    \"max_iter\": 5000, \n",
    "    \"eta\": 0.6,\n",
    "    \"pop_size\": 8,\n",
    "    #\"n_threads\": 32,\n",
    "    \"fitness_thresh\": 0.01,\n",
    "    \"use_zero_bound\": True\n",
    "}\n",
    "bicap_train = BicapEvolutionaryTrain(data, labels, params)\n",
    "bicap = bicap_train.train()\n",
    "print(bicap)\n",
    "\n",
    "out_img = np.zeros_like(um_gt1)\n",
    "ind = 0\n",
    "for i in range(1, n_seg + 1):\n",
    "    ci = choquet_integral(data[ind], bicap)\n",
    "    out_img[seg == i] = ci.reshape(-1)\n",
    "    ind += 1\n",
    "\n",
    "plt.imshow(out_img, cmap=cmap, vmin=vmin, vmax=vmax)\n",
    "plt.title(\"Fusion Output - obj function 2\")\n",
    "plt.show()\n",
    "\n",
    "out_img_abs = np.abs(out_img)\n",
    "plt.imshow(out_img_abs, cmap=cmap, vmin=vmin, vmax=vmax)\n",
    "plt.title(\"Fusion Output - obj function 2 (abs)\")\n",
    "plt.show()"
   ]
  }
 ],
 "metadata": {
  "kernelspec": {
   "display_name": "research",
   "language": "python",
   "name": "python3"
  },
  "language_info": {
   "codemirror_mode": {
    "name": "ipython",
    "version": 3
   },
   "file_extension": ".py",
   "mimetype": "text/x-python",
   "name": "python",
   "nbconvert_exporter": "python",
   "pygments_lexer": "ipython3",
   "version": "3.10.14"
  }
 },
 "nbformat": 4,
 "nbformat_minor": 2
}
